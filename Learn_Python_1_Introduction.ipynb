{
  "nbformat": 4,
  "nbformat_minor": 0,
  "metadata": {
    "colab": {
      "name": "Learn-Python-1-Introduction.ipynb",
      "version": "0.3.2",
      "provenance": [],
      "collapsed_sections": [],
      "include_colab_link": true
    },
    "kernelspec": {
      "name": "python3",
      "display_name": "Python 3"
    }
  },
  "cells": [
    {
      "cell_type": "markdown",
      "metadata": {
        "id": "view-in-github",
        "colab_type": "text"
      },
      "source": [
        "<a href=\"https://colab.research.google.com/github/jweir136/Learn-Python/blob/master/Learn_Python_1_Introduction.ipynb\" target=\"_parent\"><img src=\"https://colab.research.google.com/assets/colab-badge.svg\" alt=\"Open In Colab\"/></a>"
      ]
    },
    {
      "metadata": {
        "id": "sTcnJCur2xDd",
        "colab_type": "text"
      },
      "cell_type": "markdown",
      "source": [
        "# Learn Python 1: Introduction"
      ]
    },
    {
      "metadata": {
        "id": "UAARdQDj24fN",
        "colab_type": "text"
      },
      "cell_type": "markdown",
      "source": [
        "Python is a great language to learn!  Not only is it very easy, but it is widely supported across both windows, IOS, and Linux.  Before we start coding, we are going to be covering some basics.\n",
        "\n",
        "### About the Language\n",
        "\n",
        "Python is a high-level language, and no, this isn't refering to the difficulty.  *High-level* means that a language isn't in machine code.  In order for any langauge to be complied and run, first it needs to be converted to machine code.  Once the program is in machine code, the program can be converted into a file for the computer to read, and now you can run it.\n",
        "\n",
        "For example, when you create a Java program, we first have to convert it to a *.class* file.  A .class file is an example of basic machine code.  Another example of a machine code file is a *.out* file created in C. \n",
        "\n",
        "But for Python, there is a catch; Python doesn't have a machine code file.  Instead, Python converts it's code into C code.  From there, the new C code is converted into machine code, and the computer runs the machine code.  Sound like a lot of steps?  Well it is!  Due to all of these steps, Python is know for being very slow.  In fact, Python is about 400x slower than C!  But as an added benefit, you get the advantage of a language that is easy to code, and easy to understand.\n",
        "\n",
        "Python was created in the early 1980's by a dev. at *Dropbox*.  At first it remained unpopular because it was newer, and much slower than the more devoloped languages such as C and Java.  But in the mid-2000's, that changed when *Google* deciced to adopt Python for most of their scripts (Google was actually first written in Python before being converted to C++).  With them, Google brought tons of new coders who worked to create *modules*.  Modules are add-ons for Python (like mods in a video game).  Modules are one of the best parts of Python, being that it makes everything far easier since you don't need to create everything in a project from scratch.\n",
        "\n",
        "### Setting Up Your Environment\n",
        "\n",
        "Before you start coding, we will need to download a complier for Python.  One of the first things you have to be careful of is the version of Python that you install.  Even though Python 2 is still available to be installed, you should download Python 3 (this is the version that this entire guide uses).  You can install the complier from the official website for Python, and once you do you will want to create the path of the Python complier to a environment variable.\n",
        "\n",
        "But for now, it is best just to dive right into the code.  Luckily, a number of websites off online compliers for both free and monthly fees.  From personal experience, one of the best ones to use is [*Repl.it*](https://repl.it/languages).  Once you have visited the site, you will want to select *Python* as your language (*do not select Python 2 or Python 2.7*).  If you wish to save your files, we can create a free account, and get a ton of storage.\n",
        "\n",
        "Once you have that setup, you can dive right into the code!"
      ]
    },
    {
      "metadata": {
        "id": "K6bwWzJR6wz1",
        "colab_type": "text"
      },
      "cell_type": "markdown",
      "source": [
        "## Hello World!\n",
        "\n",
        "For our first program, we will be creating the age-old \"Hello World!\" program.  The goal of this program is to learn how to output messages to the user."
      ]
    },
    {
      "metadata": {
        "id": "Z5VJaz0s6-ce",
        "colab_type": "code",
        "outputId": "697bb40d-9ed0-4c66-a387-3cb4bf60b71b",
        "colab": {
          "base_uri": "https://localhost:8080/",
          "height": 34
        }
      },
      "cell_type": "code",
      "source": [
        "print(\"Hello World!\")"
      ],
      "execution_count": 1,
      "outputs": [
        {
          "output_type": "stream",
          "text": [
            "Hello World!\n"
          ],
          "name": "stdout"
        }
      ]
    },
    {
      "metadata": {
        "id": "c8AnKr0u7CMX",
        "colab_type": "text"
      },
      "cell_type": "markdown",
      "source": [
        "This is incredibly simple!  Notice how there is no need for any file headers, or mainloops?  That's one of the benefits of Python; mainloops and headers are not necessary.\n",
        "\n",
        "If you are using Repl.it, you can just click the clearly-labeled \"Run\" button to see the output.  However, if you are currently using your own command line, and have installed the complier correctly, then you will want to run the following code in your CMD."
      ]
    },
    {
      "metadata": {
        "id": "L9Yb3VTe9Cty",
        "colab_type": "text"
      },
      "cell_type": "markdown",
      "source": [
        "```python filename.py```"
      ]
    },
    {
      "metadata": {
        "id": "2uWumiW-7lXy",
        "colab_type": "text"
      },
      "cell_type": "markdown",
      "source": [
        "this will run the program.  Just be sure that you are currently in the same directory as the Python file, and it has the *.py* extension."
      ]
    },
    {
      "metadata": {
        "id": "4CJssxDC7wAr",
        "colab_type": "text"
      },
      "cell_type": "markdown",
      "source": [
        "### Hello World!: Explaination\n",
        "\n",
        "Now, provided that your Python code above is working and not causing any errors (if there are any errors, then just copy-and-paste them into Google), we will want to understand what exactly is happening.  \n",
        "\n",
        "To start, the ```print()``` part of the code will always output whatever is between the parenthesis.  Just be sure to include the parenthesis if you are using Python 3 (if you aren't then you really should).  The next part, is the quotes.  The quotes are necessary in order to print a string to the user.  When we put \"Hello World!\" in our ```print()``` function, this prints \"Hello World!\" out onto the screen.  You can output anything you want, as long as there are quotes around it.\n",
        "\n",
        "### Hello World!: Practice\n",
        "\n",
        "For the first practice, delete all of the code from the first example, and print out your name.  Next, you can print our anything you want!"
      ]
    },
    {
      "metadata": {
        "id": "oyjzAyZT9T8Y",
        "colab_type": "text"
      },
      "cell_type": "markdown",
      "source": [
        "## Printing Numbers\n",
        "\n",
        "For the next example, we are going to show you how you can actually output numbers just like the string in the first example.  One of the things about Python, is there is no need to convert data types all the time (if you don't know what this means then don't worry).  In other words, you can print out a number, provided that you are *only* going to print out a number.  If you attempt to print out a word and a number in the same ```print()``` function, you will get an error.\n",
        "\n",
        "In Python, a number is simply any number (no duh) that isn't inside of quotes.  Once a number is put inside quotes, it is treated as a string (a sentence or word) instead of a number.\n",
        "\n",
        "There are 2 basic types of numbers in Python, *floats* and *integers*.  Integers are simpy any whole number, meaning that you can't include a decimal point in an integer.  Here are some examples of integers:\n",
        "\n",
        "```\n",
        "2\n",
        "3\n",
        "10\n",
        "1000\n",
        "0\n",
        "1\n",
        "```\n",
        "\n",
        "On the other hand, the following are *not* integers:\n",
        "\n",
        "```\n",
        "1.2\n",
        "1.1\n",
        "0.3\n",
        "3.14\n",
        "1.0\n",
        "```\n",
        "\n",
        "Be sure to pay extra close attention to the last one.  Despite the fact that it is indeed equal to an integer, it is not as it still has a decimal point in it.\n",
        "\n",
        "Python also supports negative numbers as well, simply by adding a subtraction symbol in front of the number (both negative integers and negative floats are supported).  Here are some examples:\n",
        "\n",
        "```\n",
        "-1\n",
        "-1.0\n",
        "-0.3\n",
        "-3.14\n",
        "```\n",
        "\n",
        "Floats, are simply just numbers that contain decimals points.  You can see some examples above.\n",
        "\n",
        "### Printing Numbers: Quiz\n",
        "\n",
        "Determine which of the following are integers, and which of the following are floats:\n",
        "\n",
        "```\n",
        "1\n",
        "1.0\n",
        "0.1\n",
        "-3.14\n",
        "-1\n",
        "10000.1\n",
        "100001\n",
        "```\n",
        "\n",
        "### Printing Numbers: Code\n",
        "\n",
        "In a new Python file, add the following code:"
      ]
    },
    {
      "metadata": {
        "id": "O4zSGSU0_7yP",
        "colab_type": "code",
        "colab": {
          "base_uri": "https://localhost:8080/",
          "height": 85
        },
        "outputId": "646c547f-7b43-443b-81e0-75c294175c4e"
      },
      "cell_type": "code",
      "source": [
        "print(3)\n",
        "print(3.14)\n",
        "print(-3)\n",
        "print(-3.14)"
      ],
      "execution_count": 2,
      "outputs": [
        {
          "output_type": "stream",
          "text": [
            "3\n",
            "3.14\n",
            "-3\n",
            "-3.14\n"
          ],
          "name": "stdout"
        }
      ]
    },
    {
      "metadata": {
        "id": "oiY1zPUJAArs",
        "colab_type": "text"
      },
      "cell_type": "markdown",
      "source": [
        "Notice how the program printed out what we told it to?  This is printing our numbers.  In order to print them out, we don't need to include quotes around the the number, and if we do they won't be numbers.\n",
        "\n",
        "One the other hand, if we add a word in quotes inside the parenthesis with the number, we will get an error.\n",
        "\n",
        "### Printing Numbers: Practice\n",
        "\n",
        "Simply output your age using a new file.  Once that is done, output the value of PI as far as you can go."
      ]
    },
    {
      "metadata": {
        "id": "gKSWoAosBO4V",
        "colab_type": "text"
      },
      "cell_type": "markdown",
      "source": [
        "## Doing Math\n",
        "\n",
        "One of the great things about any coding language is that they can also double as calculators!  Meaning, that if you type basic math into your complier, the complier is able to solve it for you.  But before you provide some examples of how to do this, some basic things need to be covered.\n",
        "\n",
        "### Operators\n",
        "\n",
        "In math, an operator is anything that is used to add, subtract, divide, etc.  a number of numbers.  For example, an addition sign (+) is an operator.  A subtraction sign (-) is also an operator.  In Python, operators are used to do math in the program.  For example, ```1 + 1``` will calculate the number 2 since that is the result of the equation there.  Just keep in mind that you *cannot* have quotes around the numbers.\n",
        "\n",
        "Another handy trick, is that you can actually print our the result of an equation using Python.  That is exactly what the example here is going to do."
      ]
    },
    {
      "metadata": {
        "id": "EdwWDrasCmVx",
        "colab_type": "code",
        "colab": {
          "base_uri": "https://localhost:8080/",
          "height": 85
        },
        "outputId": "efcd15e8-57cb-4d80-f442-5c2c654374b5"
      },
      "cell_type": "code",
      "source": [
        "print(2 + 1)\n",
        "print(2 * 4)\n",
        "print(2 / 1)\n",
        "print(1 - 4)"
      ],
      "execution_count": 3,
      "outputs": [
        {
          "output_type": "stream",
          "text": [
            "3\n",
            "8\n",
            "2.0\n",
            "-3\n"
          ],
          "name": "stdout"
        }
      ]
    },
    {
      "metadata": {
        "id": "gWQo14JoC0O6",
        "colab_type": "text"
      },
      "cell_type": "markdown",
      "source": [
        "But, you can also do math with floating point numbers as well."
      ]
    },
    {
      "metadata": {
        "id": "2yb7Q9jqC4Ri",
        "colab_type": "code",
        "colab": {
          "base_uri": "https://localhost:8080/",
          "height": 85
        },
        "outputId": "10822b92-21a5-4c9f-d556-daff11ffb867"
      },
      "cell_type": "code",
      "source": [
        "print(2.1 + 2.0)\n",
        "print(2.4 - 1.1)\n",
        "print(1.1 / 0.1)\n",
        "print(1.0 * 9.8)"
      ],
      "execution_count": 4,
      "outputs": [
        {
          "output_type": "stream",
          "text": [
            "4.1\n",
            "1.2999999999999998\n",
            "11.0\n",
            "9.8\n"
          ],
          "name": "stdout"
        }
      ]
    },
    {
      "metadata": {
        "id": "5lfqx-gbDAtw",
        "colab_type": "text"
      },
      "cell_type": "markdown",
      "source": [
        "If you haven't noticed already, when you divide 2 numbers, the anwer *always* has a decimal points in them.  This is because the complier outmatically converts the to floats instead of integers.  Another thing point out is that if you add, subtract, or multiply 2 integers, then the result will be an integer.  But if you add, subtract, or multiply 2 floats, then the result will be a float.  But here's where it get's tricky; any operation with a float and an integer will result in the answer being a float.\n",
        "\n",
        "Confusing?  Well, unlike other languages, you don't need to worry to much about this stuff, since Python handles most of it automatically.\n",
        "\n",
        "### Doing Math: Practice\n",
        "\n",
        "Simply add, divide, subtract, and multiply 2 numbers, while printing out the result.  For a challenge, try to print out the result of an equation with more than one operators in it.  You can also add parthesis to the equation if you wish to revist the *order of operations*."
      ]
    },
    {
      "metadata": {
        "id": "Hi0Sgr2NHnr5",
        "colab_type": "text"
      },
      "cell_type": "markdown",
      "source": [
        "## Conclusion\n",
        "\n",
        "That concludes the first tutorial on Learninig Python. In this tutorial, we covered how to get started, the basics behind Python, how to output things to the user, and how to do math and print out the results.\n",
        "\n",
        "If you wish for more tutorials on Learning Python, be sure to star this repo!"
      ]
    }
  ]
}